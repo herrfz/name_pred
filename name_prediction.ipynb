{
 "metadata": {
  "name": "",
  "signature": "sha256:3b61402b2535c7172be792bdf9370a7d5e2769a7598b58adcaec1d5acf5d3416"
 },
 "nbformat": 3,
 "nbformat_minor": 0,
 "worksheets": [
  {
   "cells": [
    {
     "cell_type": "code",
     "collapsed": false,
     "input": [
      "import pandas as pd\n",
      "import numpy as np\n",
      "\n",
      "from sklearn.feature_extraction.text import CountVectorizer\n",
      "from sklearn.cross_validation import train_test_split\n",
      "from sklearn.linear_model import LogisticRegression\n",
      "from sklearn.grid_search import GridSearchCV\n",
      "from sklearn.pipeline import Pipeline, FeatureUnion\n",
      "from sklearn.base import TransformerMixin, BaseEstimator"
     ],
     "language": "python",
     "metadata": {},
     "outputs": [],
     "prompt_number": 1
    },
    {
     "cell_type": "code",
     "collapsed": false,
     "input": [
      "nations = ('china', 'japan')"
     ],
     "language": "python",
     "metadata": {},
     "outputs": [],
     "prompt_number": 2
    },
    {
     "cell_type": "code",
     "collapsed": false,
     "input": [
      "chn = pd.read_csv('china.csv')\n",
      "chn['nation'] = 0\n",
      "chn.head(10)"
     ],
     "language": "python",
     "metadata": {},
     "outputs": [
      {
       "html": [
        "<div style=\"max-height:1000px;max-width:1500px;overflow:auto;\">\n",
        "<table border=\"1\" class=\"dataframe\">\n",
        "  <thead>\n",
        "    <tr style=\"text-align: right;\">\n",
        "      <th></th>\n",
        "      <th>names</th>\n",
        "      <th>nation</th>\n",
        "    </tr>\n",
        "  </thead>\n",
        "  <tbody>\n",
        "    <tr>\n",
        "      <th>0</th>\n",
        "      <td>  Wang</td>\n",
        "      <td> 0</td>\n",
        "    </tr>\n",
        "    <tr>\n",
        "      <th>1</th>\n",
        "      <td>    Li</td>\n",
        "      <td> 0</td>\n",
        "    </tr>\n",
        "    <tr>\n",
        "      <th>2</th>\n",
        "      <td> Zhang</td>\n",
        "      <td> 0</td>\n",
        "    </tr>\n",
        "    <tr>\n",
        "      <th>3</th>\n",
        "      <td>   Liu</td>\n",
        "      <td> 0</td>\n",
        "    </tr>\n",
        "    <tr>\n",
        "      <th>4</th>\n",
        "      <td>  Chen</td>\n",
        "      <td> 0</td>\n",
        "    </tr>\n",
        "    <tr>\n",
        "      <th>5</th>\n",
        "      <td>  Yang</td>\n",
        "      <td> 0</td>\n",
        "    </tr>\n",
        "    <tr>\n",
        "      <th>6</th>\n",
        "      <td> Huang</td>\n",
        "      <td> 0</td>\n",
        "    </tr>\n",
        "    <tr>\n",
        "      <th>7</th>\n",
        "      <td>  Zhao</td>\n",
        "      <td> 0</td>\n",
        "    </tr>\n",
        "    <tr>\n",
        "      <th>8</th>\n",
        "      <td>    Wu</td>\n",
        "      <td> 0</td>\n",
        "    </tr>\n",
        "    <tr>\n",
        "      <th>9</th>\n",
        "      <td>  Zhou</td>\n",
        "      <td> 0</td>\n",
        "    </tr>\n",
        "  </tbody>\n",
        "</table>\n",
        "</div>"
       ],
       "metadata": {},
       "output_type": "pyout",
       "prompt_number": 3,
       "text": [
        "   names  nation\n",
        "0   Wang       0\n",
        "1     Li       0\n",
        "2  Zhang       0\n",
        "3    Liu       0\n",
        "4   Chen       0\n",
        "5   Yang       0\n",
        "6  Huang       0\n",
        "7   Zhao       0\n",
        "8     Wu       0\n",
        "9   Zhou       0"
       ]
      }
     ],
     "prompt_number": 3
    },
    {
     "cell_type": "code",
     "collapsed": false,
     "input": [
      "jpn = pd.read_csv('japan.csv')\n",
      "jpn['nation'] = 1\n",
      "jpn.head(10)"
     ],
     "language": "python",
     "metadata": {},
     "outputs": [
      {
       "html": [
        "<div style=\"max-height:1000px;max-width:1500px;overflow:auto;\">\n",
        "<table border=\"1\" class=\"dataframe\">\n",
        "  <thead>\n",
        "    <tr style=\"text-align: right;\">\n",
        "      <th></th>\n",
        "      <th>names</th>\n",
        "      <th>nation</th>\n",
        "    </tr>\n",
        "  </thead>\n",
        "  <tbody>\n",
        "    <tr>\n",
        "      <th>0</th>\n",
        "      <td>      Sato</td>\n",
        "      <td> 1</td>\n",
        "    </tr>\n",
        "    <tr>\n",
        "      <th>1</th>\n",
        "      <td>    Suzuki</td>\n",
        "      <td> 1</td>\n",
        "    </tr>\n",
        "    <tr>\n",
        "      <th>2</th>\n",
        "      <td> Takahashi</td>\n",
        "      <td> 1</td>\n",
        "    </tr>\n",
        "    <tr>\n",
        "      <th>3</th>\n",
        "      <td>    Tanaka</td>\n",
        "      <td> 1</td>\n",
        "    </tr>\n",
        "    <tr>\n",
        "      <th>4</th>\n",
        "      <td>  Watanabe</td>\n",
        "      <td> 1</td>\n",
        "    </tr>\n",
        "    <tr>\n",
        "      <th>5</th>\n",
        "      <td>       Ito</td>\n",
        "      <td> 1</td>\n",
        "    </tr>\n",
        "    <tr>\n",
        "      <th>6</th>\n",
        "      <td>  Nakamura</td>\n",
        "      <td> 1</td>\n",
        "    </tr>\n",
        "    <tr>\n",
        "      <th>7</th>\n",
        "      <td> Kobayashi</td>\n",
        "      <td> 1</td>\n",
        "    </tr>\n",
        "    <tr>\n",
        "      <th>8</th>\n",
        "      <td>  Yamamoto</td>\n",
        "      <td> 1</td>\n",
        "    </tr>\n",
        "    <tr>\n",
        "      <th>9</th>\n",
        "      <td>      Kato</td>\n",
        "      <td> 1</td>\n",
        "    </tr>\n",
        "  </tbody>\n",
        "</table>\n",
        "</div>"
       ],
       "metadata": {},
       "output_type": "pyout",
       "prompt_number": 4,
       "text": [
        "       names  nation\n",
        "0       Sato       1\n",
        "1     Suzuki       1\n",
        "2  Takahashi       1\n",
        "3     Tanaka       1\n",
        "4   Watanabe       1\n",
        "5        Ito       1\n",
        "6   Nakamura       1\n",
        "7  Kobayashi       1\n",
        "8   Yamamoto       1\n",
        "9       Kato       1"
       ]
      }
     ],
     "prompt_number": 4
    },
    {
     "cell_type": "code",
     "collapsed": false,
     "input": [
      "comb_df = pd.concat([chn, jpn], axis=0, ignore_index=True)\n",
      "comb_df = comb_df.reindex(np.random.permutation(comb_df.index))\n",
      "comb_df.head(10)"
     ],
     "language": "python",
     "metadata": {},
     "outputs": [
      {
       "html": [
        "<div style=\"max-height:1000px;max-width:1500px;overflow:auto;\">\n",
        "<table border=\"1\" class=\"dataframe\">\n",
        "  <thead>\n",
        "    <tr style=\"text-align: right;\">\n",
        "      <th></th>\n",
        "      <th>names</th>\n",
        "      <th>nation</th>\n",
        "    </tr>\n",
        "  </thead>\n",
        "  <tbody>\n",
        "    <tr>\n",
        "      <th>150</th>\n",
        "      <td>      Liew</td>\n",
        "      <td> 0</td>\n",
        "    </tr>\n",
        "    <tr>\n",
        "      <th>189</th>\n",
        "      <td>      Wong</td>\n",
        "      <td> 0</td>\n",
        "    </tr>\n",
        "    <tr>\n",
        "      <th>18 </th>\n",
        "      <td>       Lin</td>\n",
        "      <td> 0</td>\n",
        "    </tr>\n",
        "    <tr>\n",
        "      <th>59 </th>\n",
        "      <td>       Jin</td>\n",
        "      <td> 0</td>\n",
        "    </tr>\n",
        "    <tr>\n",
        "      <th>113</th>\n",
        "      <td>       Liu</td>\n",
        "      <td> 0</td>\n",
        "    </tr>\n",
        "    <tr>\n",
        "      <th>136</th>\n",
        "      <td>      Chan</td>\n",
        "      <td> 0</td>\n",
        "    </tr>\n",
        "    <tr>\n",
        "      <th>283</th>\n",
        "      <td>    Murata</td>\n",
        "      <td> 1</td>\n",
        "    </tr>\n",
        "    <tr>\n",
        "      <th>204</th>\n",
        "      <td> Kobayashi</td>\n",
        "      <td> 1</td>\n",
        "    </tr>\n",
        "    <tr>\n",
        "      <th>14 </th>\n",
        "      <td>        Hu</td>\n",
        "      <td> 0</td>\n",
        "    </tr>\n",
        "    <tr>\n",
        "      <th>92 </th>\n",
        "      <td>       Yan</td>\n",
        "      <td> 0</td>\n",
        "    </tr>\n",
        "  </tbody>\n",
        "</table>\n",
        "</div>"
       ],
       "metadata": {},
       "output_type": "pyout",
       "prompt_number": 5,
       "text": [
        "         names  nation\n",
        "150       Liew       0\n",
        "189       Wong       0\n",
        "18         Lin       0\n",
        "59         Jin       0\n",
        "113        Liu       0\n",
        "136       Chan       0\n",
        "283     Murata       1\n",
        "204  Kobayashi       1\n",
        "14          Hu       0\n",
        "92         Yan       0"
       ]
      }
     ],
     "prompt_number": 5
    },
    {
     "cell_type": "code",
     "collapsed": false,
     "input": [
      "X_train, X_test, \\\n",
      "    y_train, y_test = train_test_split(comb_df.names, comb_df.nation, test_size=0.3, random_state=0)"
     ],
     "language": "python",
     "metadata": {},
     "outputs": [],
     "prompt_number": 6
    },
    {
     "cell_type": "code",
     "collapsed": false,
     "input": [
      "class LengthExtractor(BaseEstimator, TransformerMixin):\n",
      "    def transform(self, X, **transform_params):\n",
      "        return pd.DataFrame([len(x) for x in X])\n",
      "\n",
      "    def fit(self, X, y=None, **fit_params):\n",
      "        return self"
     ],
     "language": "python",
     "metadata": {},
     "outputs": [],
     "prompt_number": 7
    },
    {
     "cell_type": "code",
     "collapsed": false,
     "input": [
      "pipeline = Pipeline([\n",
      "    ('features', FeatureUnion([\n",
      "        ('vect', CountVectorizer(analyzer='char')),\n",
      "        ('namelen', LengthExtractor()),\n",
      "    ])),\n",
      "    ('clf', LogisticRegression()),\n",
      "])\n",
      "\n",
      "parameters = {\n",
      "    'features__vect__ngram_range': ((1, 1), (1, 2), (1, 3)),\n",
      "    'clf__C': [1, 5, 10, 20, 50, 70, 90]\n",
      "}"
     ],
     "language": "python",
     "metadata": {},
     "outputs": [],
     "prompt_number": 8
    },
    {
     "cell_type": "code",
     "collapsed": false,
     "input": [
      "grid_search = GridSearchCV(pipeline, parameters, n_jobs=-1, cv=10)\n",
      "grid_search.fit(X_train, y_train)"
     ],
     "language": "python",
     "metadata": {},
     "outputs": [
      {
       "metadata": {},
       "output_type": "pyout",
       "prompt_number": 9,
       "text": [
        "GridSearchCV(cv=10,\n",
        "       estimator=Pipeline(steps=[('features', FeatureUnion(n_jobs=1,\n",
        "       transformer_list=[('vect', CountVectorizer(analyzer='char', binary=False, charset=None,\n",
        "        charset_error=None, decode_error='strict',\n",
        "        dtype=<class 'numpy.int64'>, encoding='utf-8', input='content',\n",
        "        lowercase=True, max_df=1.0, max...e, fit_intercept=True,\n",
        "          intercept_scaling=1, penalty='l2', random_state=None, tol=0.0001))]),\n",
        "       fit_params={}, iid=True, loss_func=None, n_jobs=-1,\n",
        "       param_grid={'features__vect__ngram_range': ((1, 1), (1, 2), (1, 3)), 'clf__C': [1, 5, 10, 20, 50, 70, 90]},\n",
        "       pre_dispatch='2*n_jobs', refit=True, score_func=None, scoring=None,\n",
        "       verbose=0)"
       ]
      }
     ],
     "prompt_number": 9
    },
    {
     "cell_type": "code",
     "collapsed": false,
     "input": [
      "grid_search.best_score_, grid_search.best_params_"
     ],
     "language": "python",
     "metadata": {},
     "outputs": [
      {
       "metadata": {},
       "output_type": "pyout",
       "prompt_number": 10,
       "text": [
        "(0.98148148148148151, {'clf__C': 1, 'features__vect__ngram_range': (1, 2)})"
       ]
      }
     ],
     "prompt_number": 10
    },
    {
     "cell_type": "code",
     "collapsed": false,
     "input": [
      "test_accuracy = np.mean(grid_search.predict(X_test) == y_test)\n",
      "test_samples = len(y_test)\n",
      "print('test accuracy: {:.1f}%'.format(test_accuracy * 100))\n",
      "print('number of test samples: {}'.format(test_samples))"
     ],
     "language": "python",
     "metadata": {},
     "outputs": [
      {
       "output_type": "stream",
       "stream": "stdout",
       "text": [
        "test accuracy: 96.8%\n",
        "number of test samples: 93\n"
       ]
      }
     ],
     "prompt_number": 11
    },
    {
     "cell_type": "code",
     "collapsed": false,
     "input": [
      "dict(zip(X_test[:30], [nations[x] for x in grid_search.predict(X_test[:30])]))"
     ],
     "language": "python",
     "metadata": {},
     "outputs": [
      {
       "metadata": {},
       "output_type": "pyout",
       "prompt_number": 12,
       "text": [
        "{'Kono': 'japan',\n",
        " 'Mo': 'china',\n",
        " 'Matsui': 'japan',\n",
        " 'Ueda': 'japan',\n",
        " 'Zhang': 'china',\n",
        " 'Harada': 'japan',\n",
        " 'Fujihara': 'japan',\n",
        " 'Yamashita': 'japan',\n",
        " 'Pan': 'china',\n",
        " 'Hou': 'china',\n",
        " 'Le': 'china',\n",
        " 'Kato': 'japan',\n",
        " 'Shimada': 'japan',\n",
        " 'Ding': 'china',\n",
        " 'Aoki': 'japan',\n",
        " 'Zheng': 'china',\n",
        " 'Kimura': 'japan',\n",
        " 'Ichikawa': 'japan',\n",
        " 'Ota': 'japan',\n",
        " 'Taketa': 'japan',\n",
        " 'Shi': 'china',\n",
        " 'Low': 'china',\n",
        " 'Wen': 'china',\n",
        " 'Yang': 'china',\n",
        " 'Nakajima': 'japan',\n",
        " 'Tang': 'china',\n",
        " 'Sakai': 'japan',\n",
        " 'Okamoto': 'japan',\n",
        " 'Kojima': 'japan',\n",
        " 'Masuda': 'japan'}"
       ]
      }
     ],
     "prompt_number": 12
    },
    {
     "cell_type": "code",
     "collapsed": false,
     "input": [
      "nations[grid_search.predict(['Nakamoto'])]"
     ],
     "language": "python",
     "metadata": {},
     "outputs": [
      {
       "metadata": {},
       "output_type": "pyout",
       "prompt_number": 13,
       "text": [
        "'japan'"
       ]
      }
     ],
     "prompt_number": 13
    },
    {
     "cell_type": "code",
     "collapsed": false,
     "input": [],
     "language": "python",
     "metadata": {},
     "outputs": []
    }
   ],
   "metadata": {}
  }
 ]
}