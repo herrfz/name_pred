{
 "metadata": {
  "name": "",
  "signature": "sha256:e523aa8fb4eea13418369f40b6da8e1cd4db81156244dde141e7a2f4ef18325a"
 },
 "nbformat": 3,
 "nbformat_minor": 0,
 "worksheets": [
  {
   "cells": [
    {
     "cell_type": "code",
     "collapsed": false,
     "input": [
      "import pandas as pd\n",
      "import numpy as np\n",
      "\n",
      "from sklearn.feature_extraction.text import CountVectorizer\n",
      "from sklearn.cross_validation import train_test_split\n",
      "from sklearn.linear_model import LogisticRegression\n",
      "from sklearn.grid_search import GridSearchCV\n",
      "from sklearn.pipeline import Pipeline, FeatureUnion\n",
      "from sklearn.base import TransformerMixin, BaseEstimator\n",
      "from sklearn.decomposition import PCA"
     ],
     "language": "python",
     "metadata": {},
     "outputs": [],
     "prompt_number": 1
    },
    {
     "cell_type": "code",
     "collapsed": false,
     "input": [
      "%matplotlib inline\n",
      "from ggplot import *"
     ],
     "language": "python",
     "metadata": {},
     "outputs": [],
     "prompt_number": 2
    },
    {
     "cell_type": "code",
     "collapsed": false,
     "input": [
      "nations = ('china', 'japan')"
     ],
     "language": "python",
     "metadata": {},
     "outputs": [],
     "prompt_number": 3
    },
    {
     "cell_type": "code",
     "collapsed": false,
     "input": [
      "chn = pd.read_csv('china.csv')\n",
      "chn.names = chn.names.apply(lambda x: x.strip())\n",
      "chn['nation'] = 0\n",
      "chn.head(10)"
     ],
     "language": "python",
     "metadata": {},
     "outputs": [
      {
       "html": [
        "<div style=\"max-height:1000px;max-width:1500px;overflow:auto;\">\n",
        "<table border=\"1\" class=\"dataframe\">\n",
        "  <thead>\n",
        "    <tr style=\"text-align: right;\">\n",
        "      <th></th>\n",
        "      <th>names</th>\n",
        "      <th>nation</th>\n",
        "    </tr>\n",
        "  </thead>\n",
        "  <tbody>\n",
        "    <tr>\n",
        "      <th>0</th>\n",
        "      <td>  Wang</td>\n",
        "      <td> 0</td>\n",
        "    </tr>\n",
        "    <tr>\n",
        "      <th>1</th>\n",
        "      <td>    Li</td>\n",
        "      <td> 0</td>\n",
        "    </tr>\n",
        "    <tr>\n",
        "      <th>2</th>\n",
        "      <td> Zhang</td>\n",
        "      <td> 0</td>\n",
        "    </tr>\n",
        "    <tr>\n",
        "      <th>3</th>\n",
        "      <td>   Liu</td>\n",
        "      <td> 0</td>\n",
        "    </tr>\n",
        "    <tr>\n",
        "      <th>4</th>\n",
        "      <td>  Chen</td>\n",
        "      <td> 0</td>\n",
        "    </tr>\n",
        "    <tr>\n",
        "      <th>5</th>\n",
        "      <td>  Yang</td>\n",
        "      <td> 0</td>\n",
        "    </tr>\n",
        "    <tr>\n",
        "      <th>6</th>\n",
        "      <td> Huang</td>\n",
        "      <td> 0</td>\n",
        "    </tr>\n",
        "    <tr>\n",
        "      <th>7</th>\n",
        "      <td>  Zhao</td>\n",
        "      <td> 0</td>\n",
        "    </tr>\n",
        "    <tr>\n",
        "      <th>8</th>\n",
        "      <td>    Wu</td>\n",
        "      <td> 0</td>\n",
        "    </tr>\n",
        "    <tr>\n",
        "      <th>9</th>\n",
        "      <td>  Zhou</td>\n",
        "      <td> 0</td>\n",
        "    </tr>\n",
        "  </tbody>\n",
        "</table>\n",
        "</div>"
       ],
       "metadata": {},
       "output_type": "pyout",
       "prompt_number": 4,
       "text": [
        "   names  nation\n",
        "0   Wang       0\n",
        "1     Li       0\n",
        "2  Zhang       0\n",
        "3    Liu       0\n",
        "4   Chen       0\n",
        "5   Yang       0\n",
        "6  Huang       0\n",
        "7   Zhao       0\n",
        "8     Wu       0\n",
        "9   Zhou       0"
       ]
      }
     ],
     "prompt_number": 4
    },
    {
     "cell_type": "code",
     "collapsed": false,
     "input": [
      "jpn = pd.read_csv('japan.csv')\n",
      "jpn.names = jpn.names.apply(lambda x: x.strip())\n",
      "jpn['nation'] = 1\n",
      "jpn.head(10)"
     ],
     "language": "python",
     "metadata": {},
     "outputs": [
      {
       "html": [
        "<div style=\"max-height:1000px;max-width:1500px;overflow:auto;\">\n",
        "<table border=\"1\" class=\"dataframe\">\n",
        "  <thead>\n",
        "    <tr style=\"text-align: right;\">\n",
        "      <th></th>\n",
        "      <th>names</th>\n",
        "      <th>nation</th>\n",
        "    </tr>\n",
        "  </thead>\n",
        "  <tbody>\n",
        "    <tr>\n",
        "      <th>0</th>\n",
        "      <td>      Sato</td>\n",
        "      <td> 1</td>\n",
        "    </tr>\n",
        "    <tr>\n",
        "      <th>1</th>\n",
        "      <td>    Suzuki</td>\n",
        "      <td> 1</td>\n",
        "    </tr>\n",
        "    <tr>\n",
        "      <th>2</th>\n",
        "      <td> Takahashi</td>\n",
        "      <td> 1</td>\n",
        "    </tr>\n",
        "    <tr>\n",
        "      <th>3</th>\n",
        "      <td>    Tanaka</td>\n",
        "      <td> 1</td>\n",
        "    </tr>\n",
        "    <tr>\n",
        "      <th>4</th>\n",
        "      <td>  Watanabe</td>\n",
        "      <td> 1</td>\n",
        "    </tr>\n",
        "    <tr>\n",
        "      <th>5</th>\n",
        "      <td>       Ito</td>\n",
        "      <td> 1</td>\n",
        "    </tr>\n",
        "    <tr>\n",
        "      <th>6</th>\n",
        "      <td>  Nakamura</td>\n",
        "      <td> 1</td>\n",
        "    </tr>\n",
        "    <tr>\n",
        "      <th>7</th>\n",
        "      <td> Kobayashi</td>\n",
        "      <td> 1</td>\n",
        "    </tr>\n",
        "    <tr>\n",
        "      <th>8</th>\n",
        "      <td>  Yamamoto</td>\n",
        "      <td> 1</td>\n",
        "    </tr>\n",
        "    <tr>\n",
        "      <th>9</th>\n",
        "      <td>      Kato</td>\n",
        "      <td> 1</td>\n",
        "    </tr>\n",
        "  </tbody>\n",
        "</table>\n",
        "</div>"
       ],
       "metadata": {},
       "output_type": "pyout",
       "prompt_number": 5,
       "text": [
        "       names  nation\n",
        "0       Sato       1\n",
        "1     Suzuki       1\n",
        "2  Takahashi       1\n",
        "3     Tanaka       1\n",
        "4   Watanabe       1\n",
        "5        Ito       1\n",
        "6   Nakamura       1\n",
        "7  Kobayashi       1\n",
        "8   Yamamoto       1\n",
        "9       Kato       1"
       ]
      }
     ],
     "prompt_number": 5
    },
    {
     "cell_type": "code",
     "collapsed": false,
     "input": [
      "comb_df = pd.concat([chn, jpn], axis=0, ignore_index=True)\n",
      "comb_df = comb_df.reindex(np.random.permutation(comb_df.index))\n",
      "comb_df.head(10)"
     ],
     "language": "python",
     "metadata": {},
     "outputs": [
      {
       "html": [
        "<div style=\"max-height:1000px;max-width:1500px;overflow:auto;\">\n",
        "<table border=\"1\" class=\"dataframe\">\n",
        "  <thead>\n",
        "    <tr style=\"text-align: right;\">\n",
        "      <th></th>\n",
        "      <th>names</th>\n",
        "      <th>nation</th>\n",
        "    </tr>\n",
        "  </thead>\n",
        "  <tbody>\n",
        "    <tr>\n",
        "      <th>431</th>\n",
        "      <td>  Kazuyo</td>\n",
        "      <td> 1</td>\n",
        "    </tr>\n",
        "    <tr>\n",
        "      <th>560</th>\n",
        "      <td>   Ry\u014dka</td>\n",
        "      <td> 1</td>\n",
        "    </tr>\n",
        "    <tr>\n",
        "      <th>343</th>\n",
        "      <td>   Asami</td>\n",
        "      <td> 1</td>\n",
        "    </tr>\n",
        "    <tr>\n",
        "      <th>200</th>\n",
        "      <td>     Yan</td>\n",
        "      <td> 0</td>\n",
        "    </tr>\n",
        "    <tr>\n",
        "      <th>289</th>\n",
        "      <td>    Ueda</td>\n",
        "      <td> 1</td>\n",
        "    </tr>\n",
        "    <tr>\n",
        "      <th>506</th>\n",
        "      <td>  Miyabi</td>\n",
        "      <td> 1</td>\n",
        "    </tr>\n",
        "    <tr>\n",
        "      <th>469</th>\n",
        "      <td> Matsuko</td>\n",
        "      <td> 1</td>\n",
        "    </tr>\n",
        "    <tr>\n",
        "      <th>98 </th>\n",
        "      <td>   Xiang</td>\n",
        "      <td> 0</td>\n",
        "    </tr>\n",
        "    <tr>\n",
        "      <th>415</th>\n",
        "      <td>   Junko</td>\n",
        "      <td> 1</td>\n",
        "    </tr>\n",
        "    <tr>\n",
        "      <th>467</th>\n",
        "      <td>   Masae</td>\n",
        "      <td> 1</td>\n",
        "    </tr>\n",
        "  </tbody>\n",
        "</table>\n",
        "</div>"
       ],
       "metadata": {},
       "output_type": "pyout",
       "prompt_number": 6,
       "text": [
        "       names  nation\n",
        "431   Kazuyo       1\n",
        "560    Ry\u014dka       1\n",
        "343    Asami       1\n",
        "200      Yan       0\n",
        "289     Ueda       1\n",
        "506   Miyabi       1\n",
        "469  Matsuko       1\n",
        "98     Xiang       0\n",
        "415    Junko       1\n",
        "467    Masae       1"
       ]
      }
     ],
     "prompt_number": 6
    },
    {
     "cell_type": "code",
     "collapsed": false,
     "input": [
      "# try some PCA\n",
      "vect = CountVectorizer(analyzer='char')\n",
      "X_vect = vect.fit_transform(comb_df.names)\n",
      "\n",
      "pca = PCA(n_components=2)\n",
      "X_pca = pca.fit_transform(X_vect.toarray())\n",
      "\n",
      "df_pca = pd.concat([pd.DataFrame(X_pca, columns=['pca1', 'pca2']), comb_df.nation], axis=1)\n",
      "\n",
      "# beautiful but not very useful\n",
      "ggplot(aes(x='pca1', y='pca2', color='nation'), data=df_pca) + \\\n",
      "    geom_point()"
     ],
     "language": "python",
     "metadata": {},
     "outputs": [
      {
       "metadata": {},
       "output_type": "display_data",
       "png": "[encoded data removed]",
       "text": [
        "<matplotlib.figure.Figure at 0x10ba63550>"
       ]
      },
      {
       "metadata": {},
       "output_type": "pyout",
       "prompt_number": 7,
       "text": [
        "<ggplot: (280651461)>"
       ]
      }
     ],
     "prompt_number": 7
    },
    {
     "cell_type": "code",
     "collapsed": false,
     "input": [
      "X_train, X_test, \\\n",
      "    y_train, y_test = train_test_split(comb_df.names, comb_df.nation, test_size=0.3, random_state=0)"
     ],
     "language": "python",
     "metadata": {},
     "outputs": [],
     "prompt_number": 17
    },
    {
     "cell_type": "code",
     "collapsed": false,
     "input": [
      "class LengthExtractor(BaseEstimator, TransformerMixin):\n",
      "    def transform(self, X, **transform_params):\n",
      "        return pd.DataFrame([len(x) for x in X])\n",
      "\n",
      "    def fit(self, X, y=None, **fit_params):\n",
      "        return self"
     ],
     "language": "python",
     "metadata": {},
     "outputs": [],
     "prompt_number": 18
    },
    {
     "cell_type": "code",
     "collapsed": false,
     "input": [
      "class EndsWithConsonant(BaseEstimator, TransformerMixin):\n",
      "    def transform(self, X, **transform_params):\n",
      "        return pd.DataFrame(X).applymap(lambda x: int(x[-1] not in ['a', 'i', 'u', 'e', 'o']))\n",
      "    \n",
      "    def fit(self, X, y=None, **fit_params):\n",
      "        return self"
     ],
     "language": "python",
     "metadata": {},
     "outputs": [],
     "prompt_number": 19
    },
    {
     "cell_type": "code",
     "collapsed": false,
     "input": [
      "pipeline = Pipeline([\n",
      "    ('features', FeatureUnion([\n",
      "        ('vect', CountVectorizer(analyzer='char')),\n",
      "        ('namelen', LengthExtractor()),\n",
      "        ('endswithcons', EndsWithConsonant())\n",
      "    ])),\n",
      "    ('clf', LogisticRegression()),\n",
      "])\n",
      "\n",
      "parameters = {\n",
      "    'features__vect__ngram_range': ((1, 2), (1, 3), (1, 4), (1, 5)),\n",
      "    'clf__C': [1, 5, 10, 20, 50, 70, 90, 100]\n",
      "}\n",
      "\n",
      "grid_search = GridSearchCV(pipeline, parameters, n_jobs=-1, cv=10)\n",
      "grid_search.fit(X_train, y_train)"
     ],
     "language": "python",
     "metadata": {},
     "outputs": [
      {
       "metadata": {},
       "output_type": "pyout",
       "prompt_number": 20,
       "text": [
        "GridSearchCV(cv=10,\n",
        "       estimator=Pipeline(steps=[('features', FeatureUnion(n_jobs=1,\n",
        "       transformer_list=[('vect', CountVectorizer(analyzer='char', binary=False, charset=None,\n",
        "        charset_error=None, decode_error='strict',\n",
        "        dtype=<class 'numpy.int64'>, encoding='utf-8', input='content',\n",
        "        lowercase=True, max_df=1.0, max...e, fit_intercept=True,\n",
        "          intercept_scaling=1, penalty='l2', random_state=None, tol=0.0001))]),\n",
        "       fit_params={}, iid=True, loss_func=None, n_jobs=-1,\n",
        "       param_grid={'clf__C': [1, 5, 10, 20, 50, 70, 90, 100], 'features__vect__ngram_range': ((1, 2), (1, 3), (1, 4), (1, 5))},\n",
        "       pre_dispatch='2*n_jobs', refit=True, score_func=None, scoring=None,\n",
        "       verbose=0)"
       ]
      }
     ],
     "prompt_number": 20
    },
    {
     "cell_type": "code",
     "collapsed": false,
     "input": [
      "grid_search.best_score_, grid_search.best_params_"
     ],
     "language": "python",
     "metadata": {},
     "outputs": [
      {
       "metadata": {},
       "output_type": "pyout",
       "prompt_number": 21,
       "text": [
        "(0.96902654867256632, {'clf__C': 50, 'features__vect__ngram_range': (1, 3)})"
       ]
      }
     ],
     "prompt_number": 21
    },
    {
     "cell_type": "code",
     "collapsed": false,
     "input": [
      "test_accuracy = np.mean(grid_search.predict(X_test) == y_test)\n",
      "test_samples = len(y_test)\n",
      "print('test accuracy: {:.1f}%'.format(test_accuracy * 100))\n",
      "print('number of test samples: {}'.format(test_samples))"
     ],
     "language": "python",
     "metadata": {},
     "outputs": [
      {
       "output_type": "stream",
       "stream": "stdout",
       "text": [
        "test accuracy: 97.9%\n",
        "number of test samples: 194\n"
       ]
      }
     ],
     "prompt_number": 22
    },
    {
     "cell_type": "code",
     "collapsed": false,
     "input": [
      "dict(zip(X_test[:20], [nations[x] for x in grid_search.predict(X_test[:20])]))"
     ],
     "language": "python",
     "metadata": {},
     "outputs": [
      {
       "metadata": {},
       "output_type": "pyout",
       "prompt_number": 23,
       "text": [
        "{'Haruna': 'japan',\n",
        " 'Nobuko': 'japan',\n",
        " 'Yong': 'china',\n",
        " 'Lim': 'china',\n",
        " 'Kuniko': 'japan',\n",
        " 'Sakurako': 'japan',\n",
        " 'Uchida': 'japan',\n",
        " 'Hayashi': 'japan',\n",
        " 'Yayoi': 'japan',\n",
        " 'Sano': 'japan',\n",
        " 'Moe': 'china',\n",
        " 'Nomura': 'japan',\n",
        " 'Yoshino': 'japan',\n",
        " 'Lei': 'china',\n",
        " 'Miiko': 'japan',\n",
        " 'Hao': 'china',\n",
        " 'Ping': 'china',\n",
        " 'Asumi': 'japan',\n",
        " 'Nakagawa': 'japan',\n",
        " 'Shimizu': 'japan'}"
       ]
      }
     ],
     "prompt_number": 23
    },
    {
     "cell_type": "code",
     "collapsed": false,
     "input": [
      "final = Pipeline([\n",
      "    ('features', FeatureUnion([\n",
      "        ('vect', CountVectorizer(analyzer='char', ngram_range=(1, 3))),\n",
      "        ('namelen', LengthExtractor()),\n",
      "        ('endswithcons', EndsWithConsonant())\n",
      "    ])),\n",
      "    ('clf', LogisticRegression(C=50)),\n",
      "])\n",
      "\n",
      "final.fit(comb_df.names, comb_df.nation)"
     ],
     "language": "python",
     "metadata": {},
     "outputs": [
      {
       "metadata": {},
       "output_type": "pyout",
       "prompt_number": 25,
       "text": [
        "Pipeline(steps=[('features', FeatureUnion(n_jobs=1,\n",
        "       transformer_list=[('vect', CountVectorizer(analyzer='char', binary=False, charset=None,\n",
        "        charset_error=None, decode_error='strict',\n",
        "        dtype=<class 'numpy.int64'>, encoding='utf-8', input='content',\n",
        "        lowercase=True, max_df=1.0, max...e, fit_intercept=True,\n",
        "          intercept_scaling=1, penalty='l2', random_state=None, tol=0.0001))])"
       ]
      }
     ],
     "prompt_number": 25
    },
    {
     "cell_type": "code",
     "collapsed": false,
     "input": [
      "# corner cases: inui, nam, ken\n",
      "nations[final.predict(['Nam'])]"
     ],
     "language": "python",
     "metadata": {},
     "outputs": [
      {
       "metadata": {},
       "output_type": "pyout",
       "prompt_number": 28,
       "text": [
        "'china'"
       ]
      }
     ],
     "prompt_number": 28
    },
    {
     "cell_type": "code",
     "collapsed": false,
     "input": [
      "import pickle\n",
      "\n",
      "with open('clf.pkl', 'wb+') as f:\n",
      "    pickle.dump(final, f)"
     ],
     "language": "python",
     "metadata": {},
     "outputs": [],
     "prompt_number": 29
    },
    {
     "cell_type": "code",
     "collapsed": false,
     "input": [
      "with open('clf.pkl', 'rb') as f:\n",
      "    clf = pickle.load(f)\n",
      "nations[clf.predict(['Inui'])]"
     ],
     "language": "python",
     "metadata": {},
     "outputs": [
      {
       "metadata": {},
       "output_type": "pyout",
       "prompt_number": 30,
       "text": [
        "'japan'"
       ]
      }
     ],
     "prompt_number": 30
    },
    {
     "cell_type": "code",
     "collapsed": false,
     "input": [],
     "language": "python",
     "metadata": {},
     "outputs": []
    }
   ],
   "metadata": {}
  }
 ]
}